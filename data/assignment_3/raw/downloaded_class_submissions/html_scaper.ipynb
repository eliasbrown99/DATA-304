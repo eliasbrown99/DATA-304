{
 "cells": [
  {
   "cell_type": "code",
   "execution_count": 25,
   "metadata": {},
   "outputs": [],
   "source": [
    "import pandas as pd\n",
    "import sqlite3 as db\n",
    "import os\n",
    "from bs4 import BeautifulSoup"
   ]
  },
  {
   "cell_type": "code",
   "execution_count": 26,
   "metadata": {},
   "outputs": [],
   "source": [
    "# Path to the folder with your \"hello_class_*.html\" files\n",
    "data_dir = '/Users/eliasbrown/Desktop/DATA-304/data/assignment_3/raw/downloaded_class_submissions'\n",
    "\n",
    "# Open (or create) the sqlite database\n",
    "db_path = os.path.join('/Users/eliasbrown/Desktop/DATA-304/data/assignment_3//altered', 'parsed_bios.sqlite')\n",
    "conn = db.connect(db_path)\n",
    "c = conn.cursor()"
   ]
  },
  {
   "cell_type": "code",
   "execution_count": 27,
   "metadata": {},
   "outputs": [
    {
     "data": {
      "text/plain": [
       "<sqlite3.Cursor at 0x127190540>"
      ]
     },
     "execution_count": 27,
     "metadata": {},
     "output_type": "execute_result"
    }
   ],
   "source": [
    "# Create the \"names\" table if it doesn't exist\n",
    "c.execute('''\n",
    "    CREATE TABLE IF NOT EXISTS names (\n",
    "        name_id INTEGER PRIMARY KEY AUTOINCREMENT,\n",
    "        name TEXT UNIQUE\n",
    "    )\n",
    "''')\n",
    "\n",
    "# Create the \"favorites\" table if it doesn't exist\n",
    "c.execute('''\n",
    "    CREATE TABLE IF NOT EXISTS favorites (\n",
    "        favorite_id INTEGER PRIMARY KEY AUTOINCREMENT,\n",
    "        name_id INTEGER,\n",
    "        category TEXT,\n",
    "        favorite TEXT,\n",
    "        FOREIGN KEY(name_id) REFERENCES names(name_id)\n",
    "    )\n",
    "''')"
   ]
  },
  {
   "cell_type": "code",
   "execution_count": 28,
   "metadata": {},
   "outputs": [],
   "source": [
    "# Loop over each 'hello_class_...' file in the directory\n",
    "for file_name in os.listdir(data_dir):\n",
    "    if file_name.startswith('hello_class') and file_name.endswith('.html'):\n",
    "        file_path = os.path.join(data_dir, file_name)\n",
    "        with open(file_path, 'r', encoding='utf-8') as f:\n",
    "            soup = BeautifulSoup(f, 'html.parser')\n",
    "\n",
    "            # Get the student's name from the <h1> tag\n",
    "            name_tag = soup.find('h1')\n",
    "            if not name_tag:\n",
    "                continue\n",
    "            name_value = name_tag.get_text(strip=True)\n",
    "\n",
    "            # Insert this name into the \"names\" table (if it's not already there)\n",
    "            c.execute('SELECT name_id FROM names WHERE name = ?', (name_value,))\n",
    "            existing = c.fetchone()\n",
    "            if existing:\n",
    "                # We already have this name in the table\n",
    "                name_id = existing[0]\n",
    "            else:\n",
    "                # Insert new name\n",
    "                c.execute('INSERT INTO names (name) VALUES (?)', (name_value,))\n",
    "                name_id = c.lastrowid\n",
    "\n",
    "            # Find the table with category/favorite data\n",
    "            table = soup.find('table')\n",
    "            if not table:\n",
    "                continue\n",
    "\n",
    "            # The first row is typically headers, so skip that row\n",
    "            rows = table.find_all('tr')[1:]\n",
    "            for row in rows:\n",
    "                cells = row.find_all('td')\n",
    "                if len(cells) < 2:\n",
    "                    continue\n",
    "                category = cells[0].get_text(strip=True)\n",
    "                favorite = cells[1].get_text(strip=True)\n",
    "\n",
    "                # Insert a record in the \"favorites\" table\n",
    "                c.execute('''\n",
    "                    INSERT INTO favorites (name_id, category, favorite)\n",
    "                    VALUES (?, ?, ?)\n",
    "                ''', (name_id, category, favorite))"
   ]
  },
  {
   "cell_type": "code",
   "execution_count": 29,
   "metadata": {},
   "outputs": [],
   "source": [
    "# Loop over each 'hello_class_...' file in the directory\n",
    "for file_name in os.listdir(data_dir):\n",
    "    if file_name.startswith('hello_class') and file_name.endswith('.html'):\n",
    "        file_path = os.path.join(data_dir, file_name)\n",
    "        with open(file_path, 'r', encoding='utf-8') as f:\n",
    "            soup = BeautifulSoup(f, 'html.parser')\n",
    "\n",
    "            # Get the student's name from the <h1> tag\n",
    "            name_tag = soup.find('h1')\n",
    "            if not name_tag:\n",
    "                continue\n",
    "            name_value = name_tag.get_text(strip=True)\n",
    "\n",
    "            # Insert this name into the \"names\" table (if it's not already there)\n",
    "            c.execute('SELECT name_id FROM names WHERE name = ?', (name_value,))\n",
    "            existing = c.fetchone()\n",
    "            if existing:\n",
    "                # We already have this name in the table\n",
    "                name_id = existing[0]\n",
    "            else:\n",
    "                # Insert new name\n",
    "                c.execute('INSERT INTO names (name) VALUES (?)', (name_value,))\n",
    "                name_id = c.lastrowid\n",
    "\n",
    "            # Find the table with category/favorite data\n",
    "            table = soup.find('table')\n",
    "            if not table:\n",
    "                continue\n",
    "\n",
    "            # The first row is typically headers, so skip that row\n",
    "            rows = table.find_all('tr')[1:]\n",
    "            for row in rows:\n",
    "                cells = row.find_all('td')\n",
    "                if len(cells) < 2:\n",
    "                    continue\n",
    "                category = cells[0].get_text(strip=True)\n",
    "                favorite = cells[1].get_text(strip=True)\n",
    "\n",
    "                # Insert a record in the \"favorites\" table\n",
    "                c.execute('''\n",
    "                    INSERT INTO favorites (name_id, category, favorite)\n",
    "                    VALUES (?, ?, ?)\n",
    "                ''', (name_id, category, favorite))"
   ]
  },
  {
   "cell_type": "code",
   "execution_count": 30,
   "metadata": {},
   "outputs": [],
   "source": [
    "# Commit the changes and close the connection\n",
    "conn.commit()\n",
    "conn.close()"
   ]
  }
 ],
 "metadata": {
  "kernelspec": {
   "display_name": "Python 3",
   "language": "python",
   "name": "python3"
  },
  "language_info": {
   "codemirror_mode": {
    "name": "ipython",
    "version": 3
   },
   "file_extension": ".py",
   "mimetype": "text/x-python",
   "name": "python",
   "nbconvert_exporter": "python",
   "pygments_lexer": "ipython3",
   "version": "3.11.3"
  }
 },
 "nbformat": 4,
 "nbformat_minor": 2
}
